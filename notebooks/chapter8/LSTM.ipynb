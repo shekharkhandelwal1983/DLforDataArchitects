{
  "nbformat": 4,
  "nbformat_minor": 0,
  "metadata": {
    "colab": {
      "provenance": [],
      "gpuType": "T4",
      "authorship_tag": "ABX9TyPCcDwHtvaqdUQ/FWth8ikn",
      "include_colab_link": true
    },
    "kernelspec": {
      "name": "python3",
      "display_name": "Python 3"
    },
    "language_info": {
      "name": "python"
    },
    "accelerator": "GPU"
  },
  "cells": [
    {
      "cell_type": "markdown",
      "metadata": {
        "id": "view-in-github",
        "colab_type": "text"
      },
      "source": [
        "<a href=\"https://colab.research.google.com/github/shekharkhandelwal1983/DLforDataArchitects/blob/main/notebooks/chapter8/LSTM.ipynb\" target=\"_parent\"><img src=\"https://colab.research.google.com/assets/colab-badge.svg\" alt=\"Open In Colab\"/></a>"
      ]
    },
    {
      "cell_type": "code",
      "execution_count": 8,
      "metadata": {
        "id": "OVuj6_rj0j8P"
      },
      "outputs": [],
      "source": [
        "import numpy as np\n",
        "import matplotlib.pyplot as plt\n",
        "import pandas as pd\n",
        "from sklearn.preprocessing import MinMaxScaler\n",
        "from sklearn.metrics import mean_squared_error\n",
        "from keras.models import Sequential\n",
        "from keras.layers import LSTM, Dense\n",
        "import urllib.request\n"
      ]
    },
    {
      "cell_type": "code",
      "source": [
        "url = \"https://raw.githubusercontent.com/jbrownlee/Datasets/master/airline-passengers.csv\"\n",
        "file = urllib.request.urlopen(url)\n",
        "\n",
        "data = pd.read_csv(file, usecols=[1], engine='python')\n"
      ],
      "metadata": {
        "id": "PKBz3D9C0s66"
      },
      "execution_count": 9,
      "outputs": []
    },
    {
      "cell_type": "code",
      "source": [
        "scaler = MinMaxScaler(feature_range=(0, 1))\n",
        "data = scaler.fit_transform(data)\n"
      ],
      "metadata": {
        "id": "4AISz7ZoXcTz"
      },
      "execution_count": 10,
      "outputs": []
    },
    {
      "cell_type": "code",
      "source": [
        "train_size = int(len(data) * 0.67)\n",
        "test_size = len(data) - train_size\n",
        "train, test = data[0:train_size, :], data[train_size:len(data), :]\n"
      ],
      "metadata": {
        "id": "_x-yw5HkYYac"
      },
      "execution_count": 11,
      "outputs": []
    },
    {
      "cell_type": "code",
      "source": [
        "def create_dataset(dataset, look_back=1):\n",
        "    dataX, dataY = [], []\n",
        "    for i in range(len(dataset) - look_back - 1):\n",
        "        dataX.append(dataset[i:(i + look_back), 0])\n",
        "        dataY.append(dataset[i + look_back, 0])\n",
        "    return np.array(dataX), np.array(dataY)\n",
        "\n",
        "look_back = 3\n",
        "trainX, trainY = create_dataset(train, look_back)\n",
        "testX, testY = create_dataset(test, look_back)\n",
        "\n",
        "# reshape input to be [samples, time steps, features]\n",
        "trainX = np.reshape(trainX, (trainX.shape[0], 1, trainX.shape[1]))\n",
        "testX = np.reshape(testX, (testX.shape[0], 1, testX.shape[1]))\n"
      ],
      "metadata": {
        "id": "Ym6KXqiiYaDg"
      },
      "execution_count": 12,
      "outputs": []
    },
    {
      "cell_type": "code",
      "source": [
        "model = Sequential()\n",
        "model.add(LSTM(4, input_shape=(1, look_back)))\n",
        "model.add(Dense(1))\n",
        "model.compile(loss='mean_squared_error', optimizer='adam')\n"
      ],
      "metadata": {
        "id": "sE_JwrLlYbuD"
      },
      "execution_count": 13,
      "outputs": []
    },
    {
      "cell_type": "code",
      "source": [
        "model.fit(trainX, trainY, epochs=100, batch_size=1, verbose=2)\n"
      ],
      "metadata": {
        "colab": {
          "base_uri": "https://localhost:8080/"
        },
        "id": "up4WXA-eYfQt",
        "outputId": "13296351-b198-4502-948f-a468d46a2812"
      },
      "execution_count": 14,
      "outputs": [
        {
          "output_type": "stream",
          "name": "stdout",
          "text": [
            "Epoch 1/100\n",
            "92/92 - 2s - loss: 0.0139 - 2s/epoch - 24ms/step\n",
            "Epoch 2/100\n",
            "92/92 - 0s - loss: 0.0062 - 263ms/epoch - 3ms/step\n",
            "Epoch 3/100\n",
            "92/92 - 0s - loss: 0.0056 - 261ms/epoch - 3ms/step\n",
            "Epoch 4/100\n",
            "92/92 - 0s - loss: 0.0052 - 266ms/epoch - 3ms/step\n",
            "Epoch 5/100\n",
            "92/92 - 0s - loss: 0.0048 - 271ms/epoch - 3ms/step\n",
            "Epoch 6/100\n",
            "92/92 - 0s - loss: 0.0046 - 250ms/epoch - 3ms/step\n",
            "Epoch 7/100\n",
            "92/92 - 0s - loss: 0.0044 - 270ms/epoch - 3ms/step\n",
            "Epoch 8/100\n",
            "92/92 - 0s - loss: 0.0043 - 279ms/epoch - 3ms/step\n",
            "Epoch 9/100\n",
            "92/92 - 0s - loss: 0.0042 - 251ms/epoch - 3ms/step\n",
            "Epoch 10/100\n",
            "92/92 - 0s - loss: 0.0041 - 247ms/epoch - 3ms/step\n",
            "Epoch 11/100\n",
            "92/92 - 0s - loss: 0.0042 - 269ms/epoch - 3ms/step\n",
            "Epoch 12/100\n",
            "92/92 - 0s - loss: 0.0039 - 259ms/epoch - 3ms/step\n",
            "Epoch 13/100\n",
            "92/92 - 0s - loss: 0.0039 - 254ms/epoch - 3ms/step\n",
            "Epoch 14/100\n",
            "92/92 - 0s - loss: 0.0040 - 261ms/epoch - 3ms/step\n",
            "Epoch 15/100\n",
            "92/92 - 0s - loss: 0.0038 - 269ms/epoch - 3ms/step\n",
            "Epoch 16/100\n",
            "92/92 - 0s - loss: 0.0038 - 257ms/epoch - 3ms/step\n",
            "Epoch 17/100\n",
            "92/92 - 0s - loss: 0.0038 - 248ms/epoch - 3ms/step\n",
            "Epoch 18/100\n",
            "92/92 - 0s - loss: 0.0038 - 254ms/epoch - 3ms/step\n",
            "Epoch 19/100\n",
            "92/92 - 0s - loss: 0.0037 - 268ms/epoch - 3ms/step\n",
            "Epoch 20/100\n",
            "92/92 - 0s - loss: 0.0037 - 260ms/epoch - 3ms/step\n",
            "Epoch 21/100\n",
            "92/92 - 0s - loss: 0.0037 - 255ms/epoch - 3ms/step\n",
            "Epoch 22/100\n",
            "92/92 - 0s - loss: 0.0036 - 273ms/epoch - 3ms/step\n",
            "Epoch 23/100\n",
            "92/92 - 0s - loss: 0.0035 - 275ms/epoch - 3ms/step\n",
            "Epoch 24/100\n",
            "92/92 - 0s - loss: 0.0036 - 246ms/epoch - 3ms/step\n",
            "Epoch 25/100\n",
            "92/92 - 0s - loss: 0.0035 - 271ms/epoch - 3ms/step\n",
            "Epoch 26/100\n",
            "92/92 - 0s - loss: 0.0034 - 268ms/epoch - 3ms/step\n",
            "Epoch 27/100\n",
            "92/92 - 0s - loss: 0.0034 - 291ms/epoch - 3ms/step\n",
            "Epoch 28/100\n",
            "92/92 - 0s - loss: 0.0034 - 271ms/epoch - 3ms/step\n",
            "Epoch 29/100\n",
            "92/92 - 0s - loss: 0.0033 - 250ms/epoch - 3ms/step\n",
            "Epoch 30/100\n",
            "92/92 - 0s - loss: 0.0032 - 293ms/epoch - 3ms/step\n",
            "Epoch 31/100\n",
            "92/92 - 0s - loss: 0.0033 - 347ms/epoch - 4ms/step\n",
            "Epoch 32/100\n",
            "92/92 - 0s - loss: 0.0033 - 358ms/epoch - 4ms/step\n",
            "Epoch 33/100\n",
            "92/92 - 0s - loss: 0.0031 - 362ms/epoch - 4ms/step\n",
            "Epoch 34/100\n",
            "92/92 - 0s - loss: 0.0032 - 355ms/epoch - 4ms/step\n",
            "Epoch 35/100\n",
            "92/92 - 1s - loss: 0.0032 - 507ms/epoch - 6ms/step\n",
            "Epoch 36/100\n",
            "92/92 - 1s - loss: 0.0031 - 507ms/epoch - 6ms/step\n",
            "Epoch 37/100\n",
            "92/92 - 0s - loss: 0.0030 - 418ms/epoch - 5ms/step\n",
            "Epoch 38/100\n",
            "92/92 - 1s - loss: 0.0030 - 514ms/epoch - 6ms/step\n",
            "Epoch 39/100\n",
            "92/92 - 0s - loss: 0.0031 - 403ms/epoch - 4ms/step\n",
            "Epoch 40/100\n",
            "92/92 - 1s - loss: 0.0030 - 518ms/epoch - 6ms/step\n",
            "Epoch 41/100\n",
            "92/92 - 0s - loss: 0.0029 - 415ms/epoch - 5ms/step\n",
            "Epoch 42/100\n",
            "92/92 - 0s - loss: 0.0030 - 472ms/epoch - 5ms/step\n",
            "Epoch 43/100\n",
            "92/92 - 0s - loss: 0.0030 - 395ms/epoch - 4ms/step\n",
            "Epoch 44/100\n",
            "92/92 - 0s - loss: 0.0029 - 392ms/epoch - 4ms/step\n",
            "Epoch 45/100\n",
            "92/92 - 1s - loss: 0.0028 - 502ms/epoch - 5ms/step\n",
            "Epoch 46/100\n",
            "92/92 - 0s - loss: 0.0027 - 413ms/epoch - 4ms/step\n",
            "Epoch 47/100\n",
            "92/92 - 0s - loss: 0.0028 - 407ms/epoch - 4ms/step\n",
            "Epoch 48/100\n",
            "92/92 - 0s - loss: 0.0028 - 420ms/epoch - 5ms/step\n",
            "Epoch 49/100\n",
            "92/92 - 0s - loss: 0.0027 - 500ms/epoch - 5ms/step\n",
            "Epoch 50/100\n",
            "92/92 - 0s - loss: 0.0027 - 358ms/epoch - 4ms/step\n",
            "Epoch 51/100\n",
            "92/92 - 0s - loss: 0.0027 - 473ms/epoch - 5ms/step\n",
            "Epoch 52/100\n",
            "92/92 - 0s - loss: 0.0026 - 458ms/epoch - 5ms/step\n",
            "Epoch 53/100\n",
            "92/92 - 0s - loss: 0.0026 - 385ms/epoch - 4ms/step\n",
            "Epoch 54/100\n",
            "92/92 - 0s - loss: 0.0025 - 410ms/epoch - 4ms/step\n",
            "Epoch 55/100\n",
            "92/92 - 0s - loss: 0.0025 - 396ms/epoch - 4ms/step\n",
            "Epoch 56/100\n",
            "92/92 - 1s - loss: 0.0025 - 537ms/epoch - 6ms/step\n",
            "Epoch 57/100\n",
            "92/92 - 0s - loss: 0.0025 - 406ms/epoch - 4ms/step\n",
            "Epoch 58/100\n",
            "92/92 - 0s - loss: 0.0025 - 371ms/epoch - 4ms/step\n",
            "Epoch 59/100\n",
            "92/92 - 0s - loss: 0.0025 - 402ms/epoch - 4ms/step\n",
            "Epoch 60/100\n",
            "92/92 - 1s - loss: 0.0025 - 519ms/epoch - 6ms/step\n",
            "Epoch 61/100\n",
            "92/92 - 1s - loss: 0.0025 - 673ms/epoch - 7ms/step\n",
            "Epoch 62/100\n",
            "92/92 - 1s - loss: 0.0025 - 545ms/epoch - 6ms/step\n",
            "Epoch 63/100\n",
            "92/92 - 1s - loss: 0.0023 - 500ms/epoch - 5ms/step\n",
            "Epoch 64/100\n",
            "92/92 - 0s - loss: 0.0024 - 473ms/epoch - 5ms/step\n",
            "Epoch 65/100\n",
            "92/92 - 0s - loss: 0.0023 - 429ms/epoch - 5ms/step\n",
            "Epoch 66/100\n",
            "92/92 - 0s - loss: 0.0023 - 469ms/epoch - 5ms/step\n",
            "Epoch 67/100\n",
            "92/92 - 0s - loss: 0.0023 - 392ms/epoch - 4ms/step\n",
            "Epoch 68/100\n",
            "92/92 - 0s - loss: 0.0022 - 283ms/epoch - 3ms/step\n",
            "Epoch 69/100\n",
            "92/92 - 0s - loss: 0.0022 - 389ms/epoch - 4ms/step\n",
            "Epoch 70/100\n",
            "92/92 - 0s - loss: 0.0023 - 333ms/epoch - 4ms/step\n",
            "Epoch 71/100\n",
            "92/92 - 0s - loss: 0.0022 - 473ms/epoch - 5ms/step\n",
            "Epoch 72/100\n",
            "92/92 - 0s - loss: 0.0021 - 353ms/epoch - 4ms/step\n",
            "Epoch 73/100\n",
            "92/92 - 0s - loss: 0.0022 - 420ms/epoch - 5ms/step\n",
            "Epoch 74/100\n",
            "92/92 - 0s - loss: 0.0021 - 479ms/epoch - 5ms/step\n",
            "Epoch 75/100\n",
            "92/92 - 0s - loss: 0.0021 - 403ms/epoch - 4ms/step\n",
            "Epoch 76/100\n",
            "92/92 - 0s - loss: 0.0021 - 389ms/epoch - 4ms/step\n",
            "Epoch 77/100\n",
            "92/92 - 0s - loss: 0.0022 - 415ms/epoch - 5ms/step\n",
            "Epoch 78/100\n",
            "92/92 - 0s - loss: 0.0021 - 419ms/epoch - 5ms/step\n",
            "Epoch 79/100\n",
            "92/92 - 0s - loss: 0.0021 - 394ms/epoch - 4ms/step\n",
            "Epoch 80/100\n",
            "92/92 - 0s - loss: 0.0020 - 444ms/epoch - 5ms/step\n",
            "Epoch 81/100\n",
            "92/92 - 0s - loss: 0.0021 - 411ms/epoch - 4ms/step\n",
            "Epoch 82/100\n",
            "92/92 - 0s - loss: 0.0021 - 462ms/epoch - 5ms/step\n",
            "Epoch 83/100\n",
            "92/92 - 0s - loss: 0.0020 - 274ms/epoch - 3ms/step\n",
            "Epoch 84/100\n",
            "92/92 - 0s - loss: 0.0020 - 273ms/epoch - 3ms/step\n",
            "Epoch 85/100\n",
            "92/92 - 0s - loss: 0.0020 - 283ms/epoch - 3ms/step\n",
            "Epoch 86/100\n",
            "92/92 - 0s - loss: 0.0020 - 267ms/epoch - 3ms/step\n",
            "Epoch 87/100\n",
            "92/92 - 0s - loss: 0.0019 - 266ms/epoch - 3ms/step\n",
            "Epoch 88/100\n",
            "92/92 - 0s - loss: 0.0019 - 254ms/epoch - 3ms/step\n",
            "Epoch 89/100\n",
            "92/92 - 0s - loss: 0.0020 - 261ms/epoch - 3ms/step\n",
            "Epoch 90/100\n",
            "92/92 - 0s - loss: 0.0019 - 254ms/epoch - 3ms/step\n",
            "Epoch 91/100\n",
            "92/92 - 0s - loss: 0.0020 - 294ms/epoch - 3ms/step\n",
            "Epoch 92/100\n",
            "92/92 - 0s - loss: 0.0019 - 344ms/epoch - 4ms/step\n",
            "Epoch 93/100\n",
            "92/92 - 0s - loss: 0.0021 - 358ms/epoch - 4ms/step\n",
            "Epoch 94/100\n",
            "92/92 - 0s - loss: 0.0019 - 335ms/epoch - 4ms/step\n",
            "Epoch 95/100\n",
            "92/92 - 0s - loss: 0.0019 - 330ms/epoch - 4ms/step\n",
            "Epoch 96/100\n",
            "92/92 - 0s - loss: 0.0019 - 333ms/epoch - 4ms/step\n",
            "Epoch 97/100\n",
            "92/92 - 0s - loss: 0.0018 - 356ms/epoch - 4ms/step\n",
            "Epoch 98/100\n",
            "92/92 - 0s - loss: 0.0018 - 298ms/epoch - 3ms/step\n",
            "Epoch 99/100\n",
            "92/92 - 0s - loss: 0.0018 - 275ms/epoch - 3ms/step\n",
            "Epoch 100/100\n",
            "92/92 - 0s - loss: 0.0018 - 270ms/epoch - 3ms/step\n"
          ]
        },
        {
          "output_type": "execute_result",
          "data": {
            "text/plain": [
              "<keras.callbacks.History at 0x7f42d4516290>"
            ]
          },
          "metadata": {},
          "execution_count": 14
        }
      ]
    },
    {
      "cell_type": "code",
      "source": [
        "trainPredict = model.predict(trainX)\n",
        "testPredict = model.predict(testX)\n",
        "\n",
        "# Invert predictions back to original scale\n",
        "trainPredict = scaler.inverse_transform(trainPredict)\n",
        "trainY = scaler.inverse_transform([trainY])\n",
        "testPredict = scaler.inverse_transform(testPredict)\n",
        "testY = scaler.inverse_transform([testY])\n"
      ],
      "metadata": {
        "colab": {
          "base_uri": "https://localhost:8080/"
        },
        "id": "w7e9j6mDYg04",
        "outputId": "b6456a95-36b7-4936-92f3-a5ea3c89b79a"
      },
      "execution_count": 15,
      "outputs": [
        {
          "output_type": "stream",
          "name": "stdout",
          "text": [
            "3/3 [==============================] - 0s 4ms/step\n",
            "2/2 [==============================] - 0s 6ms/step\n"
          ]
        }
      ]
    },
    {
      "cell_type": "code",
      "source": [
        "trainScore = np.sqrt(mean_squared_error(trainY[0], trainPredict[:, 0]))\n",
        "print(f'Train Score: {trainScore:.2f} RMSE')\n",
        "testScore = np.sqrt(mean_squared_error(testY[0], testPredict[:, 0]))\n",
        "print(f'Test Score: {testScore:.2f} RMSE')\n"
      ],
      "metadata": {
        "colab": {
          "base_uri": "https://localhost:8080/"
        },
        "id": "2cEy1wccYyDG",
        "outputId": "4844a5e5-6335-4621-ca6a-0eb5ec581a2d"
      },
      "execution_count": 16,
      "outputs": [
        {
          "output_type": "stream",
          "name": "stdout",
          "text": [
            "Train Score: 22.37 RMSE\n",
            "Test Score: 44.75 RMSE\n"
          ]
        }
      ]
    },
    {
      "cell_type": "code",
      "source": [
        "plt.plot(scaler.inverse_transform(data))\n",
        "trainPredictPlot = np.empty_like(data)\n",
        "trainPredictPlot[:, :] = np.nan\n",
        "trainPredictPlot[look_back:len(trainPredict)+look_back, :] = trainPredict\n",
        "\n",
        "testPredictPlot = np.empty_like(data)\n",
        "testPredictPlot[:, :] = np.nan\n",
        "testPredictPlot[len(trainPredict)+(look_back*2)+1:len(data)-1, :] = testPredict\n",
        "\n",
        "plt.plot(trainPredictPlot)\n",
        "plt.plot(testPredictPlot)\n",
        "plt.show()\n"
      ],
      "metadata": {
        "colab": {
          "base_uri": "https://localhost:8080/",
          "height": 430
        },
        "id": "ozkxdIIbY58e",
        "outputId": "fa4d73b4-63b8-4d89-f92a-475e5fd77e57"
      },
      "execution_count": 17,
      "outputs": [
        {
          "output_type": "display_data",
          "data": {
            "text/plain": [
              "<Figure size 640x480 with 1 Axes>"
            ],
            "image/png": "[encoded data removed]"
          },
          "metadata": {}
        }
      ]
    },
    {
      "cell_type": "code",
      "source": [],
      "metadata": {
        "id": "VjqMDZ-bcpXT"
      },
      "execution_count": null,
      "outputs": []
    }
  ]
}